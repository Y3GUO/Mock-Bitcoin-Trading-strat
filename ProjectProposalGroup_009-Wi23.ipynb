{
 "cells": [
  {
   "cell_type": "markdown",
   "metadata": {},
   "source": [
    "# COGS 108 - Final Project Proposal"
   ]
  },
  {
   "cell_type": "markdown",
   "metadata": {},
   "source": [
    "# Names\n",
    "\n",
    "- Roger Deng\n",
    "- Yutong Guo\n",
    "- Yuchen Jiang\n",
    "- Junren Le\n",
    "- Miki Sze To"
   ]
  },
  {
   "cell_type": "markdown",
   "metadata": {},
   "source": [
    "# Research Question"
   ]
  },
  {
   "cell_type": "markdown",
   "metadata": {},
   "source": [
    "In the Bitcoin market, how can traditional financial indicators combined with data science techniques be effectively used to develop a predictive model designed to provide investors with more accurate predictions in order to make more informed investment decisions when buying (going long) or selling (going short) Bitcoin?"
   ]
  },
  {
   "cell_type": "markdown",
   "metadata": {},
   "source": [
    "## Background and Prior Work"
   ]
  },
  {
   "cell_type": "markdown",
   "metadata": {},
   "source": [
    "In this project, we will be focusing on cryptocurrency, defined as any form of digital currency where it uses cryptography to secure transactions [1]. Examples of popular cryptocurrencies are Bitcoin, Ethereum, and Binance Coin. In this project, our focus will be on Bitcoin. Many investors started investing in Bitcoin as they have become increasingly popular over the years. Investors are hoping to buy and sell Bitcoin at their best prices. However, after conducting research, we found that Bitcoin prices are constantly changing whenever a new trade is made. Bitcoin prices can rise or drop by as much as 10% on any given day [3]. Therefore, most Bitcoin platforms will update the prices of Bitcoin every 30 seconds to keep the most up to date data [2]. Consequently, one of the most significant challenges for investors is predicting prices of Bitcoin in order to buy and sell them at the best prices. In this project, we aim to discover the factors that have the greatest influence on the price of Bitcoin and find out how well a predictive model can aid investors in making informed decisions regarding buying/selling Bitcoin. \n",
    "\n",
    "Another project conducted by Junwei Chen has asked similar questions, which are what variables have influence over the price of Bitcoin and how to obtain a price prediction model with high accuracy for Bitcoin prices [4]. In his project, Chen created the prediction models based on two different algorithms, one algorithm is random forest regression and the other is LSTM. Most previous studies have used LSTM to be the main algorithm when creating prediction models for Bitcoin because LSTM is believed to have a high accuracy. On the other hand, models created by random forest regression have not been widely used. Chen created and compared these two models based on their different algorithms to see which model provides a higher accuracy for price prediction. After analysis, Chen found that the price prediction model for Bitcoin using random forest regression actually performed better than LSTM, especially with the increase in Bitcoin transaction history where the random forest regression model can learn from via machine learning. Chen found the main variables that affected Bitcoin prices were the US stock market index (NASDAQ, DJI, and S&P 500), the price of oil, ETH price, and the difficulty of finding blocks of Bitcoin. \n",
    "\n",
    "Furthermore, another project conducted by Rajat Kumar Rathore also examined the question of how to develop a better price prediction model for Bitcoin [5]. In the course of this research, Rathore compared two commonly used algorithms: LSTM and ARIMA. He found that LSTM models were challenging to interpret, while ARIMA models were unsuitable for Bitcoin price data, which are highly influenced by seasonal trends. Therefore, Rathore developed a new model called the Fbprophet, which he found to be superior to both LSTM and ARIMA models. The Fbprophet model does not rely solely on past data to make predictions, which makes it better at forecasting Bitcoin prices, especially when historical data is scarce or patterns are difficult to discern. Rathore's research suggests that the Fbprophet model is more accurate and better at predicting Bitcoin prices.\n",
    "\n",
    "As seen, a substantial amount of research has focused on developing a price prediction model for Bitcoin with high accuracy. In our project, we aim to answer the questions: what factors have the greatest influence on the price of Bitcoin and how well can a predictive model aid investors in making informed decisions regarding buying and selling Bitcoin. \n",
    "\n",
    "References:\n",
    "\n",
    "[1]: Kaspersky. “What Is Cryptocurrency and How Does It Work?” Www.kaspersky.com, 9 Feb. 2022, https://www.kaspersky.com/resource-center/definitions/what-is-cryptocurrency\n",
    "\n",
    "[2]: Miguel, Alejandro. “Bitcoinprice.com.” BitcoinPrice.com, https://www.bitcoinprice.com/\n",
    "\n",
    "[3]: Bitcoin Value Fluctuates over Time | Etoro Us. https://www.etoro.com/en-us/crypto/why-bitcoin-fluctuates/\n",
    "\n",
    "[4]: Chen, Junwei. “Analysis of Bitcoin Price Prediction Using Machine Learning.” MDPI, Multidisciplinary Digital Publishing Institute, 13 Jan. 2023, https://www.mdpi.com/1911-8074/16/1/51\n",
    "\n",
    "[5]: Rajat Kumar Rathore a, et al. “Real-World Model for Bitcoin Price Prediction.” Information Processing & Management, Pergamon, 19 May 2022, https://www.sciencedirect.com/science/article/abs/pii/S030645732200084X"
   ]
  },
  {
   "cell_type": "markdown",
   "metadata": {},
   "source": [
    "# Hypothesis\n"
   ]
  },
  {
   "cell_type": "markdown",
   "metadata": {},
   "source": [
    "A predictive model that can forecast the price of Bitcoin with high accuracy can be developed by analyzing financial indicators extracted from raw transaction data from the cryptocurrency exchange Binance using statistical and machine learning techniques.\n",
    "\n",
    "Furthermore, we can refine and optimize the predictive model to increase its effectiveness in predicting Bitcoin prices by analyzing historical trends and identifying key indicators such as market sentiment, trading volume, and technological developments. \n",
    "\n",
    "The result will be a powerful tool that can provide investors with valuable insights and increase their profitability in the volatile world of cryptocurrencies."
   ]
  },
  {
   "cell_type": "markdown",
   "metadata": {},
   "source": [
    "# Data"
   ]
  },
  {
   "cell_type": "markdown",
   "metadata": {},
   "source": [
    "- Dataset Name: df_btc\n",
    "- Link to the dataset: use Binance API to generate from \"1 Jan, 2023\" up to the present date\n",
    "- Number of observations: 1534 rows at 2023-03-05 21:00:00\n",
    "\n",
    "We have identified a potential real dataset for this project called \"df_btc\". This dataset was generated using the Binance API in read-only mode, collecting data from January 1st, 2023 up to the present date. This enables our model to stay up-to-date and provide useful insights for trading decisions. The Binance API provides several variables, including Open time, Open, High, Low, Close, Volume, Close time, Quote asset volume, Number of trades, Taker buy base asset volume, Taker buy quote asset volume, and Ignore. However, due to the large number of variables, it requires more computing power than we have available, so we only consider the most important variables in our project. The variables we focus on are \"timestamp\", \"open\", \"high\", \"low\", \"close\", and \"volume\". We use \"timestamp\" as the index for our dataset and store the data in a local file in dataframe format for each group member.\n",
    "\n",
    "Ideal Dataset: The ideal dataset would include variables such as the daily closing price of Bitcoin, the trading volume, and the date. The dataset would ideally have a large number of observations covering several years to capture the long-term trends and fluctuations of the market. The data would be collected from multiple sources, such as cryptocurrency exchanges, financial news outlets, and social media platforms. The data would be stored in a structured format, such as a relational database, to enable efficient querying and analysis.\n",
    "\n",
    "Real Datasets: One potential real dataset that could be useful for this project is the \"df_btc\" dataset, which is generated using the Binance API. The dataset includes variables such as the daily opening and closing prices of Bitcoin, the highest and lowest prices of the day, and the trading volume. However, due to the large number of variables, it may require more computing power than is currently available. Therefore, only the most important variables, such as \"timestamp,\" \"open,\" \"high,\" \"low,\" \"close,\" and \"volume,\" are included in the analysis. Another potential dataset is the \"Bitcoin Historical Data'' dataset from Kaggle, which includes daily data on the price, volume, and market cap of Bitcoin from 2013 to the present."
   ]
  },
  {
   "cell_type": "markdown",
   "metadata": {},
   "source": [
    "# Ethics & Privacy"
   ]
  },
  {
   "cell_type": "markdown",
   "metadata": {},
   "source": [
    "In the data collection section of our project, we have conducted generally unbiased research. To be more specific: Since we are collecting data from Binance API, all individuals who trade on the website have given informed consent to their trading data. We have also eliminated collection bias and downstream bias mitigation since we collected all hourly trading data that took place since 1/1/2023. Since the data collected is already anonymous, there is no trading id associated with each transaction, so the data limits PII exposure. \n",
    "\n",
    "One bias that might appear from our data collection process is that since we are only collecting data from Binance, there might be differences in pricing and trading from other virtual currency trading platforms. Thus, although it is unlikely, our results might be more relevant to trading in Binance compare to other trading platforms. \n",
    "\n",
    "Another potential bias of our project lies in the fact that we are only analyzing 6 potential influence factors of trade pricing, there are many more factors that is involved in the pricing of virtual currency, since the limited time and energy allocated to this project, our group only have the ability to use six factors to analyze the trend. Lastly, in order to prevent redress and unintended use, our project and model are not recommended to be put into actual use, and there will be a disclaimer put at the end of the project to ensure people do not use our project and model for actual pricing prediction. \n",
    "\n",
    "Lastly, we might encounter confirmation bias while analyzing the data. Confirmation bias states that if the data collection process or the way the data is analyzed is influenced by preconceived notions, the results may be biased in a particular direction. Thus, while analyzing data, we have to stay unbiased and look into each factor that might influence the pricing, even if it might seem unlikely to have an effect on the result. "
   ]
  },
  {
   "cell_type": "markdown",
   "metadata": {},
   "source": [
    "# Team Expectations "
   ]
  },
  {
   "cell_type": "markdown",
   "metadata": {},
   "source": [
    "Communication: Team members should communicate regularly and openly with each other. For example, responding to messages on time and sharing important information. \n",
    "\n",
    "Responsibility: Each team member is responsible for completing their tasks and meeting deadlines. If a team member is struggling, they should communicate with the team so that the team can work together. \n",
    "\n",
    "Collaboration: Team members should work together and be respectful of each other. For example, giving and receiving constructive feedback and working together when making decisions. \n",
    "\n",
    "Contribution: Team members should attend meetings and be punctual. If a team member is unable to attend a meeting, they should inform the team in advance. Each team member should contribute equally to the project."
   ]
  },
  {
   "cell_type": "markdown",
   "metadata": {},
   "source": [
    "# Project Timeline Proposal"
   ]
  },
  {
   "cell_type": "markdown",
   "metadata": {},
   "source": [
    "| Meeting Date  | Meeting Time| Completed Before Meeting  | Discuss at Meeting |\n",
    "|---|---|---|---|\n",
    "| 3/5  |  2 PM | Read & Think about Project proposal and data check point  | Meeting in Geisel to complete project proposal and coding for data checkpoint 1 | \n",
    "| 3/8  |  10 PM |  Brainstorm about coding for project | complete each member's part on EDA checkpoint | \n",
    "| 3/12  | 2 PM  | Edit, finalize, EDA checkpoint  | Assign group members to lead each specific part for final project.  |\n",
    "| 3/15  | 6 PM  | Complete analysis; Draft results/conclusion/discussion (Wasp) | Discuss/edit Analysis; Complete project check-in   |\n",
    "| 3/19  | Before 11:59 PM  | NA | Turn in Final Project & Group Project Surveys |"
   ]
  },
  {
   "cell_type": "code",
   "execution_count": null,
   "metadata": {},
   "outputs": [],
   "source": []
  }
 ],
 "metadata": {
  "kernelspec": {
   "display_name": "Python 3 (ipykernel)",
   "language": "python",
   "name": "python3"
  },
  "language_info": {
   "codemirror_mode": {
    "name": "ipython",
    "version": 3
   },
   "file_extension": ".py",
   "mimetype": "text/x-python",
   "name": "python",
   "nbconvert_exporter": "python",
   "pygments_lexer": "ipython3",
   "version": "3.9.13"
  },
  "varInspector": {
   "cols": {
    "lenName": 16,
    "lenType": 16,
    "lenVar": 40
   },
   "kernels_config": {
    "python": {
     "delete_cmd_postfix": "",
     "delete_cmd_prefix": "del ",
     "library": "var_list.py",
     "varRefreshCmd": "print(var_dic_list())"
    },
    "r": {
     "delete_cmd_postfix": ") ",
     "delete_cmd_prefix": "rm(",
     "library": "var_list.r",
     "varRefreshCmd": "cat(var_dic_list()) "
    }
   },
   "types_to_exclude": [
    "module",
    "function",
    "builtin_function_or_method",
    "instance",
    "_Feature"
   ],
   "window_display": false
  }
 },
 "nbformat": 4,
 "nbformat_minor": 2
}
